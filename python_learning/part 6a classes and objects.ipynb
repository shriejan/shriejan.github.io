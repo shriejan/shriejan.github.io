{
 "cells": [
  {
   "cell_type": "code",
   "execution_count": 1,
   "metadata": {},
   "outputs": [],
   "source": [
    "class sh_001:\n",
    "    name = \"Shriejan\"\n",
    "    age = 14\n",
    "    \n",
    "\n"
   ]
  },
  {
   "cell_type": "code",
   "execution_count": 2,
   "metadata": {},
   "outputs": [
    {
     "data": {
      "text/plain": [
       "'Shriejan'"
      ]
     },
     "execution_count": 2,
     "metadata": {},
     "output_type": "execute_result"
    }
   ],
   "source": [
    "sh_001.name"
   ]
  },
  {
   "cell_type": "code",
   "execution_count": 3,
   "metadata": {},
   "outputs": [
    {
     "data": {
      "text/plain": [
       "14"
      ]
     },
     "execution_count": 3,
     "metadata": {},
     "output_type": "execute_result"
    }
   ],
   "source": [
    "sh_001.age"
   ]
  },
  {
   "cell_type": "code",
   "execution_count": 4,
   "metadata": {},
   "outputs": [],
   "source": [
    "# we can store more data in class and we can get it"
   ]
  },
  {
   "cell_type": "code",
   "execution_count": 5,
   "metadata": {},
   "outputs": [],
   "source": [
    "## no only this we can also make fucntion inside class"
   ]
  },
  {
   "cell_type": "code",
   "execution_count": 6,
   "metadata": {},
   "outputs": [],
   "source": [
    "class um_001:\n",
    "    name = \"Umair\"\n",
    "    age = 30\n",
    "    def status():\n",
    "        print('tutor')\n",
    "    lst = [1,2,3,4,5,6,7,8,9,10]\n",
    "    d = {\"name\": \"Umair\", \"age\": 30}\n",
    "    "
   ]
  },
  {
   "cell_type": "code",
   "execution_count": 7,
   "metadata": {},
   "outputs": [
    {
     "data": {
      "text/plain": [
       "'Umair'"
      ]
     },
     "execution_count": 7,
     "metadata": {},
     "output_type": "execute_result"
    }
   ],
   "source": [
    "um_001.name"
   ]
  },
  {
   "cell_type": "code",
   "execution_count": 8,
   "metadata": {},
   "outputs": [
    {
     "name": "stdout",
     "output_type": "stream",
     "text": [
      "tutor\n"
     ]
    }
   ],
   "source": [
    "um_001.status()"
   ]
  },
  {
   "cell_type": "code",
   "execution_count": 9,
   "metadata": {},
   "outputs": [],
   "source": [
    "um_001.name = 'Ali'"
   ]
  },
  {
   "cell_type": "code",
   "execution_count": 10,
   "metadata": {},
   "outputs": [
    {
     "data": {
      "text/plain": [
       "'Ali'"
      ]
     },
     "execution_count": 10,
     "metadata": {},
     "output_type": "execute_result"
    }
   ],
   "source": [
    "um_001.name"
   ]
  },
  {
   "cell_type": "code",
   "execution_count": 11,
   "metadata": {},
   "outputs": [],
   "source": [
    "# this is intial for understanding"
   ]
  },
  {
   "cell_type": "code",
   "execution_count": 12,
   "metadata": {},
   "outputs": [],
   "source": [
    "# every class has init function, which is called when we create object\n",
    "\n",
    "class Animal:\n",
    "    def __init__(sh, name, legs):\n",
    "        sh.name = name\n",
    "        sh.legs = legs\n",
    "    def give_me_all(sh):\n",
    "        print(f'this is animal class with name {sh.name} and legs {sh.legs}')"
   ]
  },
  {
   "cell_type": "code",
   "execution_count": 13,
   "metadata": {},
   "outputs": [
    {
     "name": "stdout",
     "output_type": "stream",
     "text": [
      "this is animal class with name dog and legs 4\n"
     ]
    }
   ],
   "source": [
    "a1 = Animal('dog', 4)\n",
    "a1.give_me_all()"
   ]
  },
  {
   "cell_type": "code",
   "execution_count": 14,
   "metadata": {},
   "outputs": [
    {
     "name": "stdout",
     "output_type": "stream",
     "text": [
      "this is animal class with name cat and legs 4\n"
     ]
    }
   ],
   "source": [
    "a2 = Animal('cat', 4)\n",
    "a2.give_me_all()"
   ]
  },
  {
   "cell_type": "code",
   "execution_count": 15,
   "metadata": {},
   "outputs": [],
   "source": [
    "## make a2 a lass called CAT and store name, color and age of cat , make function to print only ange and color"
   ]
  },
  {
   "cell_type": "code",
   "execution_count": 16,
   "metadata": {},
   "outputs": [],
   "source": [
    "class Cat: \n",
    "    def __init__(sh, name, color, age, st):\n",
    "        sh.name = name\n",
    "        sh.color = color\n",
    "        sh.age = age\n",
    "        sh.st = st\n",
    "\n",
    "    def give_me_all(sh):\n",
    "        print(f'this is cat class and color {sh.color} and age {sh.age}')\n",
    "    \n",
    "    def what_cat_doing(sh):\n",
    "        print(f'{sh.name} is {sh.st}')\n",
    "\n",
    "    # above we learnt how to shwo somehting , now how to change it\n",
    "\n",
    "    def chage_status(sh, new_status):\n",
    "        sh.st = new_status"
   ]
  },
  {
   "cell_type": "code",
   "execution_count": 17,
   "metadata": {},
   "outputs": [
    {
     "name": "stdout",
     "output_type": "stream",
     "text": [
      "this is cat class and color orange and age 2\n"
     ]
    }
   ],
   "source": [
    "c1 = Cat('cat', 'orange', 2, 'running')\n",
    "c1.give_me_all()"
   ]
  },
  {
   "cell_type": "code",
   "execution_count": 18,
   "metadata": {},
   "outputs": [
    {
     "name": "stdout",
     "output_type": "stream",
     "text": [
      "cat is running\n"
     ]
    }
   ],
   "source": [
    "c1.what_cat_doing()"
   ]
  },
  {
   "cell_type": "code",
   "execution_count": 19,
   "metadata": {},
   "outputs": [],
   "source": [
    "c1.chage_status('flying')"
   ]
  },
  {
   "cell_type": "code",
   "execution_count": 20,
   "metadata": {},
   "outputs": [
    {
     "name": "stdout",
     "output_type": "stream",
     "text": [
      "cat is flying\n"
     ]
    }
   ],
   "source": [
    "c1.what_cat_doing()"
   ]
  },
  {
   "cell_type": "code",
   "execution_count": 21,
   "metadata": {},
   "outputs": [],
   "source": [
    "# why classes"
   ]
  },
  {
   "cell_type": "code",
   "execution_count": 22,
   "metadata": {},
   "outputs": [],
   "source": [
    "import turtle "
   ]
  },
  {
   "cell_type": "code",
   "execution_count": null,
   "metadata": {},
   "outputs": [],
   "source": []
  }
 ],
 "metadata": {
  "kernelspec": {
   "display_name": "Python 3",
   "language": "python",
   "name": "python3"
  },
  "language_info": {
   "codemirror_mode": {
    "name": "ipython",
    "version": 3
   },
   "file_extension": ".py",
   "mimetype": "text/x-python",
   "name": "python",
   "nbconvert_exporter": "python",
   "pygments_lexer": "ipython3",
   "version": "3.11.9"
  }
 },
 "nbformat": 4,
 "nbformat_minor": 2
}
