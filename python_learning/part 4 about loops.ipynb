{
 "cells": [
  {
   "cell_type": "markdown",
   "metadata": {},
   "source": [
    "```\n",
    "while (condtion):\n",
    "        exp1\n",
    "        ..."
   ]
  },
  {
   "cell_type": "code",
   "execution_count": 6,
   "metadata": {},
   "outputs": [],
   "source": [
    "while (False):\n",
    "    print(\"hello\")"
   ]
  },
  {
   "cell_type": "code",
   "execution_count": 9,
   "metadata": {},
   "outputs": [
    {
     "name": "stdout",
     "output_type": "stream",
     "text": [
      "hello 0\n",
      "hello 1\n",
      "hello 2\n",
      "hello 3\n",
      "hello 4\n",
      "hello 5\n",
      "hello 6\n",
      "hello 7\n",
      "hello 8\n",
      "hello 9\n"
     ]
    }
   ],
   "source": [
    "x = 0\n",
    "while x < 10:\n",
    "    print('hello',x)\n",
    "    x = x + 1"
   ]
  },
  {
   "cell_type": "code",
   "execution_count": 2,
   "metadata": {},
   "outputs": [
    {
     "name": "stdout",
     "output_type": "stream",
     "text": [
      "guess the number\n",
      "too low\n",
      "guess the number\n",
      "too low\n",
      "guess the number\n",
      "too high\n",
      "guess the number\n",
      "too high\n",
      "guess the number\n",
      "too high\n",
      "guess the number\n",
      "you won 77\n"
     ]
    }
   ],
   "source": [
    "# guess number untily you guess it right\n",
    "import random\n",
    "\n",
    "secret_number = random.randint(1,100)\n",
    "\n",
    "guess = 0\n",
    "while guess != secret_number:\n",
    "    print(\"guess the number\")\n",
    "    guess = int(input(\"guess the number \"))\n",
    "    if guess < secret_number:\n",
    "        print(\"too low\")\n",
    "    elif guess > secret_number:\n",
    "        print(\"too high\")\n",
    "    \n",
    "        \n",
    "print(\"you won\",secret_number)"
   ]
  },
  {
   "cell_type": "code",
   "execution_count": 3,
   "metadata": {},
   "outputs": [],
   "source": [
    "# for loop follows not condtion but size"
   ]
  },
  {
   "cell_type": "code",
   "execution_count": 4,
   "metadata": {},
   "outputs": [
    {
     "name": "stdout",
     "output_type": "stream",
     "text": [
      "apple\n",
      "banana\n",
      "orange\n",
      "grape\n",
      "watermelon\n"
     ]
    }
   ],
   "source": [
    "f = [\"apple\",\"banana\",\"orange\",\"grape\",\"watermelon\"]\n",
    "for i in f:\n",
    "    print(i)"
   ]
  },
  {
   "cell_type": "code",
   "execution_count": 5,
   "metadata": {},
   "outputs": [
    {
     "name": "stdout",
     "output_type": "stream",
     "text": [
      "blue\n",
      "red\n",
      "yellow\n",
      "green\n",
      "orange\n"
     ]
    }
   ],
   "source": [
    "c = [\"blue\",\"red\",\"yellow\",\"green\",\"orange\"]\n",
    "for i in c:\n",
    "    print(i)\n",
    "    "
   ]
  },
  {
   "cell_type": "code",
   "execution_count": 7,
   "metadata": {},
   "outputs": [
    {
     "data": {
      "text/plain": [
       "['orange', 'apple', 'banana', 'grape', 'watermelon']"
      ]
     },
     "execution_count": 7,
     "metadata": {},
     "output_type": "execute_result"
    }
   ],
   "source": [
    "o = []\n",
    "o.append(\"orange\")\n",
    "o.append(\"apple\")\n",
    "o.append(\"banana\")\n",
    "o.append(\"grape\")\n",
    "o.append(\"watermelon\")\n",
    "o"
   ]
  },
  {
   "cell_type": "code",
   "execution_count": 9,
   "metadata": {},
   "outputs": [
    {
     "name": "stdout",
     "output_type": "stream",
     "text": [
      "[32, 8, 42, 34, 4, 6, 576, 768, 6, 4, 654634, 32, 6, 42, 52, 42, 64, 32, 54]\n",
      "[23, 343, 523, 5, 43, 23, 445, 4235, 3, 5, 5, 35, 45]\n"
     ]
    }
   ],
   "source": [
    "numbers = [23,32,8,343,523,5,42,34,4 ,6,576,768,6,4,654634,43,23,445,32,4235,6,42,3,52,5,42,5,35,64,32,45,54]\n",
    "even = []\n",
    "odd = []\n",
    "for i in numbers:\n",
    "    if i % 2 == 0:\n",
    "        even.append(i)\n",
    "    else:\n",
    "        odd.append(i)\n",
    "print(even)\n",
    "print(odd)"
   ]
  },
  {
   "cell_type": "code",
   "execution_count": 11,
   "metadata": {},
   "outputs": [
    {
     "data": {
      "text/plain": [
       "[0, 1, 2, 3, 4, 5, 6, 7, 8, 9]"
      ]
     },
     "execution_count": 11,
     "metadata": {},
     "output_type": "execute_result"
    }
   ],
   "source": [
    "list(range(10))"
   ]
  },
  {
   "cell_type": "code",
   "execution_count": 13,
   "metadata": {},
   "outputs": [
    {
     "name": "stdout",
     "output_type": "stream",
     "text": [
      "guess the number\n",
      "too high\n",
      "guess the number\n",
      "too high\n",
      "guess the number\n",
      "too low\n",
      "guess the number\n",
      "too low\n",
      "guess the number\n",
      "too low\n",
      "guess the number\n",
      "you won 23\n"
     ]
    }
   ],
   "source": [
    "# guess number untily you guess it right\n",
    "import random\n",
    "\n",
    "secret_number = random.randint(1,100)\n",
    "\n",
    "guess = 0\n",
    "for i in range(10):\n",
    "    print(\"guess the number\")\n",
    "    guess = int(input(\"guess the number \"))\n",
    "    if guess < secret_number:\n",
    "        print(\"too low\")\n",
    "    elif guess > secret_number:\n",
    "        print(\"too high\")\n",
    "    if guess == secret_number:\n",
    "        break \n",
    "if guess == secret_number:\n",
    "    print(\"you won\",secret_number)\n",
    "else:\n",
    "    print(\"you lost\",secret_number)\n",
    "    "
   ]
  },
  {
   "cell_type": "code",
   "execution_count": 1,
   "metadata": {},
   "outputs": [],
   "source": [
    "# appening or adding in list\n",
    "# make a game that game  will generate 2 random numbers and you have to guess the sum of those numbers\n",
    "# your results will be stored in a list"
   ]
  },
  {
   "cell_type": "code",
   "execution_count": null,
   "metadata": {},
   "outputs": [],
   "source": []
  },
  {
   "cell_type": "code",
   "execution_count": null,
   "metadata": {},
   "outputs": [
    {
     "name": "stdout",
     "output_type": "stream",
     "text": [
      "['wrong', 'wrong', 'wrong', 'correct', 'correct']\n"
     ]
    }
   ],
   "source": [
    "# get the random number using random module\n",
    "import random\n",
    "\n",
    "# initialze empty list\n",
    "results = []\n",
    "\n",
    "for i in range(5):\n",
    "    x = random.randint(1,2)\n",
    "\n",
    "\n",
    "    # get the inout from user\n",
    "    guess = int(input(\"guess random numbers:\"))\n",
    "\n",
    "\n",
    "    # if the user guess is less than the random number then append to list as correct\n",
    "    if guess == x:\n",
    "        results.append(\"correct\")\n",
    "    else:\n",
    "        results.append(\"wrong\")\n",
    "print(results)\n"
   ]
  },
  {
   "cell_type": "code",
   "execution_count": null,
   "metadata": {},
   "outputs": [
    {
     "data": {
      "text/plain": [
       "['correct', 'correct', 'correct', 'correct', 'wrong']"
      ]
     },
     "execution_count": 12,
     "metadata": {},
     "output_type": "execute_result"
    }
   ],
   "source": []
  },
  {
   "cell_type": "code",
   "execution_count": null,
   "metadata": {},
   "outputs": [],
   "source": []
  }
 ],
 "metadata": {
  "kernelspec": {
   "display_name": "Python 3",
   "language": "python",
   "name": "python3"
  },
  "language_info": {
   "codemirror_mode": {
    "name": "ipython",
    "version": 3
   },
   "file_extension": ".py",
   "mimetype": "text/x-python",
   "name": "python",
   "nbconvert_exporter": "python",
   "pygments_lexer": "ipython3",
   "version": "3.11.9"
  }
 },
 "nbformat": 4,
 "nbformat_minor": 2
}
