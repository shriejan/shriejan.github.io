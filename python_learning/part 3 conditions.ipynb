{
 "cells": [
  {
   "cell_type": "markdown",
   "metadata": {},
   "source": [
    "#### mathematical operators"
   ]
  },
  {
   "cell_type": "code",
   "execution_count": 3,
   "metadata": {},
   "outputs": [
    {
     "name": "stdout",
     "output_type": "stream",
     "text": [
      "sum 30\n"
     ]
    }
   ],
   "source": [
    "x = 10\n",
    "y = 20\n",
    "\n",
    "print('sum',x+y)"
   ]
  },
  {
   "cell_type": "markdown",
   "metadata": {},
   "source": [
    "#### there are two more kind of operator which we have to discus\n",
    "1. comparative > ,<  \n",
    "2. logical and, or, not"
   ]
  },
  {
   "cell_type": "markdown",
   "metadata": {},
   "source": [
    "there are structures to apply logical and comparative operators \n",
    "1. if \n",
    "2. if else\n",
    "3. if elif .... \n",
    "4. if elif ...... else "
   ]
  },
  {
   "cell_type": "code",
   "execution_count": 2,
   "metadata": {},
   "outputs": [
    {
     "name": "stdout",
     "output_type": "stream",
     "text": [
      "x is less than y\n"
     ]
    }
   ],
   "source": [
    "x = 10\n",
    "y = 20\n",
    "\n",
    "if x > y:\n",
    "    print(\"x is greater than y\")\n",
    "else:\n",
    "    print(\"x is less than y\")"
   ]
  },
  {
   "cell_type": "code",
   "execution_count": 8,
   "metadata": {},
   "outputs": [
    {
     "name": "stdout",
     "output_type": "stream",
     "text": [
      "turn off fan\n"
     ]
    }
   ],
   "source": [
    "temperature = 20\n",
    "if temperature > 30:\n",
    "    print('turn on fan')\n",
    "else:\n",
    "    print('turn off fan')\n"
   ]
  },
  {
   "cell_type": "code",
   "execution_count": 11,
   "metadata": {},
   "outputs": [
    {
     "data": {
      "text/plain": [
       "(False, True, False, True, False, True)"
      ]
     },
     "execution_count": 11,
     "metadata": {},
     "output_type": "execute_result"
    }
   ],
   "source": [
    "# comparative operators\n",
    "x = 10 \n",
    "y = 20\n",
    "x == y, x != y, x > y, x < y, x >= y, x <= y \n"
   ]
  },
  {
   "cell_type": "markdown",
   "metadata": {},
   "source": [
    "```Underweight: BMI is less than 18.5\n",
    "Healthy weight: BMI is 18.5 to 24.9\n",
    "Overweight: BMI is 25 to 29.9\n",
    "Obese: BMI is 30 or more\n",
    "BMI=weight/height**2```"
   ]
  },
  {
   "cell_type": "code",
   "execution_count": 2,
   "metadata": {},
   "outputs": [
    {
     "name": "stdout",
     "output_type": "stream",
     "text": [
      "obese\n"
     ]
    }
   ],
   "source": [
    "height = int(input('enter your height in cm'))\n",
    "weight = int(input('enter your weight in kg'))\n",
    "\n",
    "BMI = weight / (height/100)**2\n",
    "\n",
    "if BMI < 18.5:\n",
    "    print('underweight')\n",
    "elif BMI <= 24.9 and BMI > 18.5:\n",
    "    print('normal')\n",
    "elif BMI <= 29.9 and BMI > 24.9:\n",
    "    print('overweight')\n",
    "else:\n",
    "    print('obese')"
   ]
  },
  {
   "cell_type": "code",
   "execution_count": null,
   "metadata": {},
   "outputs": [],
   "source": []
  }
 ],
 "metadata": {
  "kernelspec": {
   "display_name": "Python 3",
   "language": "python",
   "name": "python3"
  },
  "language_info": {
   "codemirror_mode": {
    "name": "ipython",
    "version": 3
   },
   "file_extension": ".py",
   "mimetype": "text/x-python",
   "name": "python",
   "nbconvert_exporter": "python",
   "pygments_lexer": "ipython3",
   "version": "3.11.9"
  }
 },
 "nbformat": 4,
 "nbformat_minor": 2
}
