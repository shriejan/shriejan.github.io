{
 "cells": [
  {
   "cell_type": "markdown",
   "metadata": {},
   "source": [
    "<h1>Data structure is used to store multiple values in one variable</h1>"
   ]
  },
  {
   "cell_type": "markdown",
   "metadata": {},
   "source": [
    "<h4>List</h4>"
   ]
  },
  {
   "cell_type": "code",
   "execution_count": 2,
   "metadata": {},
   "outputs": [],
   "source": [
    "numbers = [1,2,3,4,5,6,7,8,9,10]"
   ]
  },
  {
   "cell_type": "code",
   "execution_count": 3,
   "metadata": {},
   "outputs": [],
   "source": [
    "fruits = [\"apple\", \"banana\", \"cherry\"]"
   ]
  },
  {
   "cell_type": "code",
   "execution_count": 4,
   "metadata": {},
   "outputs": [
    {
     "name": "stdout",
     "output_type": "stream",
     "text": [
      "<class 'list'>\n"
     ]
    }
   ],
   "source": [
    "print(type(fruits))"
   ]
  },
  {
   "cell_type": "markdown",
   "metadata": {},
   "source": [
    "<h5> How to get value from list </h5>"
   ]
  },
  {
   "cell_type": "code",
   "execution_count": 5,
   "metadata": {},
   "outputs": [
    {
     "name": "stdout",
     "output_type": "stream",
     "text": [
      "cherry\n"
     ]
    }
   ],
   "source": [
    "# indexing, starts with 0\n",
    "\n",
    "\n",
    "print(fruits[2])\n"
   ]
  },
  {
   "cell_type": "code",
   "execution_count": 6,
   "metadata": {},
   "outputs": [
    {
     "name": "stdout",
     "output_type": "stream",
     "text": [
      "black\n"
     ]
    }
   ],
   "source": [
    "colors = [\"red\", \"green\", \"blue\", \"yellow\", \"orange\", \"white\", \"black\", \"purple\"]\n",
    "\n",
    "print(colors[6])"
   ]
  },
  {
   "cell_type": "code",
   "execution_count": 7,
   "metadata": {},
   "outputs": [],
   "source": [
    "colors = [\n",
    "    \"Red\", \"Blue\", \"Green\", \"Yellow\", \"Orange\", \"Purple\", \"Pink\", \"Brown\",\n",
    "    \"Black\", \"White\", \"Gray\", \"Teal\", \"Turquoise\", \"Maroon\", \"Navy\", \"Olive\",\n",
    "    \"Lime\", \"Coral\", \"Gold\", \"Silver\", \"Beige\", \"Mint\", \"Lavender\"\n",
    "]"
   ]
  },
  {
   "cell_type": "markdown",
   "metadata": {},
   "source": [
    "### how to find length of list"
   ]
  },
  {
   "cell_type": "code",
   "execution_count": 8,
   "metadata": {},
   "outputs": [
    {
     "data": {
      "text/plain": [
       "23"
      ]
     },
     "execution_count": 8,
     "metadata": {},
     "output_type": "execute_result"
    }
   ],
   "source": [
    "len(colors)"
   ]
  },
  {
   "cell_type": "markdown",
   "metadata": {},
   "source": [
    "### indexing"
   ]
  },
  {
   "cell_type": "code",
   "execution_count": 9,
   "metadata": {},
   "outputs": [
    {
     "name": "stdout",
     "output_type": "stream",
     "text": [
      "Mint\n"
     ]
    }
   ],
   "source": [
    "print(colors[21])"
   ]
  },
  {
   "cell_type": "code",
   "execution_count": 10,
   "metadata": {},
   "outputs": [],
   "source": [
    "colors = [\n",
    "    \"Red\", \"Blue\", \"Green\", \"Yellow\", \"Orange\", \"Purple\", \"Pink\", \"Brown\",\n",
    "    \"Black\", \"White\", \"Gray\", \"Teal\", \"Turquoise\", \"Maroon\", \"Navy\", \"Olive\",\n",
    "    \"Lime\", \"Coral\", \"Gold\", \"Silver\", \"Beige\", \"Mint\", \"Lavender\", \"Cyan\",\n",
    "    \"Magenta\", \"Peach\", \"Aqua\", \"Bronze\", \"Ivory\", \"Cream\", \"Indigo\", \"Violet\",\n",
    "    \"Crimson\", \"Khaki\", \"Mustard\", \"Salmon\", \"Chocolate\", \"Azure\", \"Saffron\",\n",
    "    \"Charcoal\", \"Burgundy\", \"Rust\", \"Amber\", \"Emerald\", \"Periwinkle\", \"Blush\",\n",
    "    \"Lilac\", \"Denim\", \"Plum\", \"Ebony\", \"Sepia\", \"Mint Green\"\n",
    "]"
   ]
  },
  {
   "cell_type": "code",
   "execution_count": 11,
   "metadata": {},
   "outputs": [
    {
     "data": {
      "text/plain": [
       "52"
      ]
     },
     "execution_count": 11,
     "metadata": {},
     "output_type": "execute_result"
    }
   ],
   "source": [
    "len(colors)"
   ]
  },
  {
   "cell_type": "code",
   "execution_count": 2,
   "metadata": {},
   "outputs": [],
   "source": [
    "fruits = ['apple', 'bannana', 'orange']"
   ]
  },
  {
   "cell_type": "code",
   "execution_count": 3,
   "metadata": {},
   "outputs": [],
   "source": [
    "fruits.append('mango')"
   ]
  },
  {
   "cell_type": "code",
   "execution_count": 4,
   "metadata": {},
   "outputs": [
    {
     "data": {
      "text/plain": [
       "['apple', 'bannana', 'orange', 'mango']"
      ]
     },
     "execution_count": 4,
     "metadata": {},
     "output_type": "execute_result"
    }
   ],
   "source": [
    "fruits"
   ]
  },
  {
   "cell_type": "code",
   "execution_count": 6,
   "metadata": {},
   "outputs": [
    {
     "data": {
      "text/plain": [
       "'mango'"
      ]
     },
     "execution_count": 6,
     "metadata": {},
     "output_type": "execute_result"
    }
   ],
   "source": [
    "fruits.pop()"
   ]
  },
  {
   "cell_type": "code",
   "execution_count": 7,
   "metadata": {},
   "outputs": [
    {
     "data": {
      "text/plain": [
       "['apple', 'bannana', 'orange']"
      ]
     },
     "execution_count": 7,
     "metadata": {},
     "output_type": "execute_result"
    }
   ],
   "source": [
    "fruits"
   ]
  },
  {
   "cell_type": "code",
   "execution_count": 8,
   "metadata": {},
   "outputs": [],
   "source": [
    "fruits.insert(0, 'mango')"
   ]
  },
  {
   "cell_type": "code",
   "execution_count": 9,
   "metadata": {},
   "outputs": [
    {
     "data": {
      "text/plain": [
       "['mango', 'apple', 'bannana', 'orange']"
      ]
     },
     "execution_count": 9,
     "metadata": {},
     "output_type": "execute_result"
    }
   ],
   "source": [
    "fruits"
   ]
  },
  {
   "cell_type": "code",
   "execution_count": 10,
   "metadata": {},
   "outputs": [],
   "source": [
    "del fruits[1]"
   ]
  },
  {
   "cell_type": "code",
   "execution_count": 12,
   "metadata": {},
   "outputs": [
    {
     "data": {
      "text/plain": [
       "['mango', 'bannana', 'orange']"
      ]
     },
     "execution_count": 12,
     "metadata": {},
     "output_type": "execute_result"
    }
   ],
   "source": [
    "fruits"
   ]
  },
  {
   "cell_type": "markdown",
   "metadata": {},
   "source": [
    "### second last value"
   ]
  },
  {
   "cell_type": "code",
   "execution_count": 12,
   "metadata": {},
   "outputs": [
    {
     "data": {
      "text/plain": [
       "'Sepia'"
      ]
     },
     "execution_count": 12,
     "metadata": {},
     "output_type": "execute_result"
    }
   ],
   "source": [
    "colors[-2]"
   ]
  },
  {
   "cell_type": "code",
   "execution_count": 13,
   "metadata": {},
   "outputs": [
    {
     "data": {
      "text/plain": [
       "'Denim'"
      ]
     },
     "execution_count": 13,
     "metadata": {},
     "output_type": "execute_result"
    }
   ],
   "source": [
    "colors[-5]"
   ]
  },
  {
   "cell_type": "markdown",
   "metadata": {},
   "source": [
    "### changing first value "
   ]
  },
  {
   "cell_type": "code",
   "execution_count": 14,
   "metadata": {},
   "outputs": [],
   "source": [
    "colors[0] = 'Shriejan'"
   ]
  },
  {
   "cell_type": "code",
   "execution_count": 15,
   "metadata": {},
   "outputs": [
    {
     "data": {
      "text/plain": [
       "['Shriejan',\n",
       " 'Blue',\n",
       " 'Green',\n",
       " 'Yellow',\n",
       " 'Orange',\n",
       " 'Purple',\n",
       " 'Pink',\n",
       " 'Brown',\n",
       " 'Black',\n",
       " 'White',\n",
       " 'Gray',\n",
       " 'Teal',\n",
       " 'Turquoise',\n",
       " 'Maroon',\n",
       " 'Navy',\n",
       " 'Olive',\n",
       " 'Lime',\n",
       " 'Coral',\n",
       " 'Gold',\n",
       " 'Silver',\n",
       " 'Beige',\n",
       " 'Mint',\n",
       " 'Lavender',\n",
       " 'Cyan',\n",
       " 'Magenta',\n",
       " 'Peach',\n",
       " 'Aqua',\n",
       " 'Bronze',\n",
       " 'Ivory',\n",
       " 'Cream',\n",
       " 'Indigo',\n",
       " 'Violet',\n",
       " 'Crimson',\n",
       " 'Khaki',\n",
       " 'Mustard',\n",
       " 'Salmon',\n",
       " 'Chocolate',\n",
       " 'Azure',\n",
       " 'Saffron',\n",
       " 'Charcoal',\n",
       " 'Burgundy',\n",
       " 'Rust',\n",
       " 'Amber',\n",
       " 'Emerald',\n",
       " 'Periwinkle',\n",
       " 'Blush',\n",
       " 'Lilac',\n",
       " 'Denim',\n",
       " 'Plum',\n",
       " 'Ebony',\n",
       " 'Sepia',\n",
       " 'Mint Green']"
      ]
     },
     "execution_count": 15,
     "metadata": {},
     "output_type": "execute_result"
    }
   ],
   "source": [
    "colors"
   ]
  },
  {
   "cell_type": "code",
   "execution_count": 16,
   "metadata": {},
   "outputs": [],
   "source": [
    "colors [-1] = 'mint orange'"
   ]
  },
  {
   "cell_type": "code",
   "execution_count": 17,
   "metadata": {},
   "outputs": [
    {
     "data": {
      "text/plain": [
       "['Denim', 'Plum', 'Ebony', 'Sepia', 'mint orange']"
      ]
     },
     "execution_count": 17,
     "metadata": {},
     "output_type": "execute_result"
    }
   ],
   "source": [
    "colors [-5:]"
   ]
  },
  {
   "cell_type": "markdown",
   "metadata": {},
   "source": [
    "### getting first 10 values"
   ]
  },
  {
   "cell_type": "code",
   "execution_count": 18,
   "metadata": {},
   "outputs": [
    {
     "data": {
      "text/plain": [
       "['Shriejan',\n",
       " 'Blue',\n",
       " 'Green',\n",
       " 'Yellow',\n",
       " 'Orange',\n",
       " 'Purple',\n",
       " 'Pink',\n",
       " 'Brown',\n",
       " 'Black',\n",
       " 'White']"
      ]
     },
     "execution_count": 18,
     "metadata": {},
     "output_type": "execute_result"
    }
   ],
   "source": [
    "colors[:10]"
   ]
  },
  {
   "cell_type": "markdown",
   "metadata": {},
   "source": [
    "# Session 2 Dictionary Data structure"
   ]
  },
  {
   "cell_type": "code",
   "execution_count": 19,
   "metadata": {},
   "outputs": [],
   "source": [
    "country_code = {\n",
    "    \"Afghanistan\": \"93\",\n",
    "    \"Albania\": \"355\",\n",
    "    \"Algeria\": \"213\",\n",
    "    \"Andorra\": \"376\",\n",
    "    \"Angola\": \"244\",\n",
    "    \"Antigua and Barbuda\": \"1268\",\n",
    "    \"Argentina\": \"54\",\n",
    "    \"Armenia\": \"374\",\n",
    "    \"Australia\": \"61\",\n",
    "    \"Austria\": \"43\",\n",
    "    \"Azerbaijan\": \"994\",\n",
    "    \"Bahamas\": \"1242\",\n",
    "    \"Bahrain\": \"973\",\n",
    "}"
   ]
  },
  {
   "cell_type": "code",
   "execution_count": 20,
   "metadata": {},
   "outputs": [],
   "source": [
    "# make dictionary of color and fruits"
   ]
  },
  {
   "cell_type": "code",
   "execution_count": 13,
   "metadata": {},
   "outputs": [],
   "source": [
    "colour_fruits = {\n",
    "    \t\"Red\": \"Apple\",\n",
    "    \t\"Blue\": \"Banana\",\n",
    "    \t\"Green\": \"Orange\", \n",
    "        \"Orange\": \"Grape\", \n",
    "        \"Purple\": \"Watermelon\",\n",
    "\n",
    "}\n"
   ]
  },
  {
   "cell_type": "code",
   "execution_count": 14,
   "metadata": {},
   "outputs": [],
   "source": [
    "colour_fruits['ýellow']  = 'Bannana'"
   ]
  },
  {
   "cell_type": "code",
   "execution_count": 15,
   "metadata": {},
   "outputs": [
    {
     "data": {
      "text/plain": [
       "{'Red': 'Apple',\n",
       " 'Blue': 'Banana',\n",
       " 'Green': 'Orange',\n",
       " 'Orange': 'Grape',\n",
       " 'Purple': 'Watermelon',\n",
       " 'ýellow': 'Bannana'}"
      ]
     },
     "execution_count": 15,
     "metadata": {},
     "output_type": "execute_result"
    }
   ],
   "source": [
    "colour_fruits"
   ]
  },
  {
   "cell_type": "code",
   "execution_count": 16,
   "metadata": {},
   "outputs": [],
   "source": [
    "del colour_fruits['Green']"
   ]
  },
  {
   "cell_type": "code",
   "execution_count": 17,
   "metadata": {},
   "outputs": [
    {
     "data": {
      "text/plain": [
       "{'Red': 'Apple',\n",
       " 'Blue': 'Banana',\n",
       " 'Orange': 'Grape',\n",
       " 'Purple': 'Watermelon',\n",
       " 'ýellow': 'Bannana'}"
      ]
     },
     "execution_count": 17,
     "metadata": {},
     "output_type": "execute_result"
    }
   ],
   "source": [
    "colour_fruits"
   ]
  },
  {
   "cell_type": "markdown",
   "metadata": {},
   "source": [
    "### getting keys and valueS and items of dictionary"
   ]
  },
  {
   "cell_type": "code",
   "execution_count": 22,
   "metadata": {},
   "outputs": [
    {
     "data": {
      "text/plain": [
       "dict_keys(['Afghanistan', 'Albania', 'Algeria', 'Andorra', 'Angola', 'Antigua and Barbuda', 'Argentina', 'Armenia', 'Australia', 'Austria', 'Azerbaijan', 'Bahamas', 'Bahrain'])"
      ]
     },
     "execution_count": 22,
     "metadata": {},
     "output_type": "execute_result"
    }
   ],
   "source": [
    "country_code.keys()"
   ]
  },
  {
   "cell_type": "code",
   "execution_count": 23,
   "metadata": {},
   "outputs": [
    {
     "data": {
      "text/plain": [
       "dict_keys(['Red', 'Blue', 'Green', 'Orange', 'Purple'])"
      ]
     },
     "execution_count": 23,
     "metadata": {},
     "output_type": "execute_result"
    }
   ],
   "source": [
    "colour_fruits.keys()"
   ]
  },
  {
   "cell_type": "code",
   "execution_count": 24,
   "metadata": {},
   "outputs": [
    {
     "data": {
      "text/plain": [
       "dict_values(['93', '355', '213', '376', '244', '1268', '54', '374', '61', '43', '994', '1242', '973'])"
      ]
     },
     "execution_count": 24,
     "metadata": {},
     "output_type": "execute_result"
    }
   ],
   "source": [
    "country_code.values()"
   ]
  },
  {
   "cell_type": "code",
   "execution_count": 26,
   "metadata": {},
   "outputs": [
    {
     "data": {
      "text/plain": [
       "dict_values(['Apple', 'Banana', 'Orange', 'Grape', 'Watermelon'])"
      ]
     },
     "execution_count": 26,
     "metadata": {},
     "output_type": "execute_result"
    }
   ],
   "source": [
    "colour_fruits.values()"
   ]
  },
  {
   "cell_type": "code",
   "execution_count": 27,
   "metadata": {},
   "outputs": [
    {
     "data": {
      "text/plain": [
       "dict_items([('Red', 'Apple'), ('Blue', 'Banana'), ('Green', 'Orange'), ('Orange', 'Grape'), ('Purple', 'Watermelon')])"
      ]
     },
     "execution_count": 27,
     "metadata": {},
     "output_type": "execute_result"
    }
   ],
   "source": [
    "colour_fruits.items()"
   ]
  },
  {
   "cell_type": "markdown",
   "metadata": {},
   "source": [
    "collect of valusing usign key"
   ]
  },
  {
   "cell_type": "code",
   "execution_count": 29,
   "metadata": {},
   "outputs": [
    {
     "data": {
      "text/plain": [
       "'61'"
      ]
     },
     "execution_count": 29,
     "metadata": {},
     "output_type": "execute_result"
    }
   ],
   "source": [
    "country_code.get(\"Australia\")"
   ]
  },
  {
   "cell_type": "code",
   "execution_count": 30,
   "metadata": {},
   "outputs": [
    {
     "data": {
      "text/plain": [
       "'Apple'"
      ]
     },
     "execution_count": 30,
     "metadata": {},
     "output_type": "execute_result"
    }
   ],
   "source": [
    "colour_fruits.get(\"Red\")"
   ]
  },
  {
   "cell_type": "markdown",
   "metadata": {},
   "source": [
    "### changing a value using key"
   ]
  },
  {
   "cell_type": "code",
   "execution_count": 31,
   "metadata": {},
   "outputs": [
    {
     "data": {
      "text/plain": [
       "{'Red': 'Apple',\n",
       " 'Blue': 'Banana',\n",
       " 'Green': 'Orange',\n",
       " 'Orange': 'Grape',\n",
       " 'Purple': 'Watermelon'}"
      ]
     },
     "execution_count": 31,
     "metadata": {},
     "output_type": "execute_result"
    }
   ],
   "source": [
    "colour_fruits"
   ]
  },
  {
   "cell_type": "code",
   "execution_count": 33,
   "metadata": {},
   "outputs": [],
   "source": [
    "colour_fruits[\"Green\"] = \"Grape\""
   ]
  },
  {
   "cell_type": "code",
   "execution_count": 34,
   "metadata": {},
   "outputs": [
    {
     "data": {
      "text/plain": [
       "{'Red': 'Apple',\n",
       " 'Blue': 'Banana',\n",
       " 'Green': 'Grape',\n",
       " 'Orange': 'Grape',\n",
       " 'Purple': 'Watermelon'}"
      ]
     },
     "execution_count": 34,
     "metadata": {},
     "output_type": "execute_result"
    }
   ],
   "source": [
    "colour_fruits"
   ]
  },
  {
   "cell_type": "markdown",
   "metadata": {},
   "source": [
    "<h1 style = background-color:red> you can put list in dicationary and dictionary in list </h1>"
   ]
  },
  {
   "cell_type": "code",
   "execution_count": null,
   "metadata": {},
   "outputs": [
    {
     "data": {
      "text/plain": [
       "5"
      ]
     },
     "execution_count": 35,
     "metadata": {},
     "output_type": "execute_result"
    }
   ],
   "source": [
    "school = [\n",
    "    {\n",
    "        \"name\": \"Shriejan\",\n",
    "        \"age\": 21,\n",
    "        \"gender\": \"male\"\n",
    "    }\n",
    "    ,\n",
    "    {\n",
    "        \"name\": \"Ali\",\n",
    "        \"age\": 7.9,\n",
    "        \"gender\": \"male\"\n",
    "    }\n",
    "    ,\n",
    "    {\n",
    "        \"name\": \"Umair\",\n",
    "        \"age\": 10,\n",
    "        \"gender\": \"male\"\n",
    "    }\n",
    "    ,\n",
    "    {\n",
    "        \"name\": \"Shruti\",\n",
    "        \"age\": 5,\n",
    "        \"gender\": \"female\"\n",
    "    }\n",
    "\n",
    "\n",
    "]\n",
    "\n",
    "# wi want to get shruti age\n",
    "school[3][\"age\"]"
   ]
  },
  {
   "cell_type": "code",
   "execution_count": 37,
   "metadata": {},
   "outputs": [
    {
     "data": {
      "text/plain": [
       "'male'"
      ]
     },
     "execution_count": 37,
     "metadata": {},
     "output_type": "execute_result"
    }
   ],
   "source": [
    "school[2][\"gender\"]"
   ]
  },
  {
   "cell_type": "code",
   "execution_count": 38,
   "metadata": {},
   "outputs": [],
   "source": [
    "d = {\n",
    "    'school_1': {\n",
    "        'name': 'Shriejan',\n",
    "        'age': 21,\n",
    "        'gender': 'male'\n",
    "    },\n",
    "    'school_2': {\n",
    "        'name': 'Ali',\n",
    "        'age': 7.9,\n",
    "        'gender': 'male'\n",
    "    },\n",
    "    'school_3': {\n",
    "        'name': 'Umair',\n",
    "        'age': 10,\n",
    "        'gender': 'male'\n",
    "    },\n",
    "    'school_4': {\n",
    "        'name': 'Shruti',\n",
    "        'age': 5,\n",
    "        'gender': 'female'\n",
    "    }\n",
    "}\n"
   ]
  },
  {
   "cell_type": "code",
   "execution_count": 39,
   "metadata": {},
   "outputs": [
    {
     "data": {
      "text/plain": [
       "{'name': 'Shruti', 'age': 5, 'gender': 'female'}"
      ]
     },
     "execution_count": 39,
     "metadata": {},
     "output_type": "execute_result"
    }
   ],
   "source": [
    "d['school_4']"
   ]
  },
  {
   "cell_type": "markdown",
   "metadata": {},
   "source": [
    "## Tuple"
   ]
  },
  {
   "cell_type": "code",
   "execution_count": 40,
   "metadata": {},
   "outputs": [
    {
     "ename": "TypeError",
     "evalue": "'tuple' object does not support item assignment",
     "output_type": "error",
     "traceback": [
      "\u001b[1;31m---------------------------------------------------------------------------\u001b[0m",
      "\u001b[1;31mTypeError\u001b[0m                                 Traceback (most recent call last)",
      "Cell \u001b[1;32mIn[40], line 3\u001b[0m\n\u001b[0;32m      1\u001b[0m \u001b[38;5;66;03m# list but it can not be changed\u001b[39;00m\n\u001b[0;32m      2\u001b[0m colors  \u001b[38;5;241m=\u001b[39m (\u001b[38;5;124m\"\u001b[39m\u001b[38;5;124mblue\u001b[39m\u001b[38;5;124m\"\u001b[39m, \u001b[38;5;124m\"\u001b[39m\u001b[38;5;124mred\u001b[39m\u001b[38;5;124m\"\u001b[39m, \u001b[38;5;124m\"\u001b[39m\u001b[38;5;124myellow\u001b[39m\u001b[38;5;124m\"\u001b[39m, \u001b[38;5;124m\"\u001b[39m\u001b[38;5;124mgreen\u001b[39m\u001b[38;5;124m\"\u001b[39m, \u001b[38;5;124m\"\u001b[39m\u001b[38;5;124morange\u001b[39m\u001b[38;5;124m\"\u001b[39m) \u001b[38;5;66;03m# list is with []\u001b[39;00m\n\u001b[1;32m----> 3\u001b[0m \u001b[43mcolors\u001b[49m\u001b[43m[\u001b[49m\u001b[38;5;241;43m0\u001b[39;49m\u001b[43m]\u001b[49m \u001b[38;5;241m=\u001b[39m \u001b[38;5;124m\"\u001b[39m\u001b[38;5;124mblack\u001b[39m\u001b[38;5;124m\"\u001b[39m\n",
      "\u001b[1;31mTypeError\u001b[0m: 'tuple' object does not support item assignment"
     ]
    }
   ],
   "source": [
    "# list but it can not be changed\n",
    "colors  = (\"blue\", \"red\", \"yellow\", \"green\", \"orange\") # list is with []\n",
    "colors[0] = \"black\""
   ]
  },
  {
   "cell_type": "code",
   "execution_count": 42,
   "metadata": {},
   "outputs": [
    {
     "data": {
      "text/plain": [
       "'orange'"
      ]
     },
     "execution_count": 42,
     "metadata": {},
     "output_type": "execute_result"
    }
   ],
   "source": [
    "colors[4]"
   ]
  },
  {
   "cell_type": "code",
   "execution_count": 45,
   "metadata": {},
   "outputs": [
    {
     "name": "stdout",
     "output_type": "stream",
     "text": [
      "my fav color is  blue\n",
      "my fav color is  red\n",
      "my fav color is  yellow\n",
      "my fav color is  green\n",
      "my fav color is  orange\n"
     ]
    }
   ],
   "source": [
    "for color in colors:\n",
    "    print('my fav color is ' ,color)"
   ]
  },
  {
   "cell_type": "code",
   "execution_count": 47,
   "metadata": {},
   "outputs": [
    {
     "name": "stdout",
     "output_type": "stream",
     "text": [
      "Red has fruit Apple\n",
      "Blue has fruit Banana\n",
      "Green has fruit Grape\n",
      "Orange has fruit Grape\n",
      "Purple has fruit Watermelon\n"
     ]
    }
   ],
   "source": [
    "for c,f in colour_fruits.items():\n",
    "    print(c,'has fruit',f)"
   ]
  },
  {
   "cell_type": "code",
   "execution_count": null,
   "metadata": {},
   "outputs": [],
   "source": []
  }
 ],
 "metadata": {
  "kernelspec": {
   "display_name": "Python 3",
   "language": "python",
   "name": "python3"
  },
  "language_info": {
   "codemirror_mode": {
    "name": "ipython",
    "version": 3
   },
   "file_extension": ".py",
   "mimetype": "text/x-python",
   "name": "python",
   "nbconvert_exporter": "python",
   "pygments_lexer": "ipython3",
   "version": "3.11.9"
  }
 },
 "nbformat": 4,
 "nbformat_minor": 2
}
