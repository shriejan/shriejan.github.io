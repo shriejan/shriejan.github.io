{
 "cells": [
  {
   "cell_type": "markdown",
   "metadata": {},
   "source": [
    "### we can not always write things repeatedly so we use loops\n",
    "### when we dont want to write complete program again and again we make a function and put our code inside that function\n",
    "### no need to rewrite"
   ]
  },
  {
   "cell_type": "code",
   "execution_count": 1,
   "metadata": {},
   "outputs": [
    {
     "name": "stdout",
     "output_type": "stream",
     "text": [
      "sum 30\n",
      "sub -10\n",
      "mul 200\n",
      "div 0.5\n"
     ]
    }
   ],
   "source": [
    "# example\n",
    "\n",
    "x = 10\n",
    "y = 20\n",
    "print(\"sum\",x+y)\n",
    "print(\"sub\",x-y)\n",
    "print(\"mul\",x*y)\n",
    "print(\"div\",x/y)\n"
   ]
  },
  {
   "cell_type": "code",
   "execution_count": 2,
   "metadata": {},
   "outputs": [
    {
     "name": "stdout",
     "output_type": "stream",
     "text": [
      "sum 50\n",
      "sub -10\n",
      "mul 600\n",
      "div 0.6666666666666666\n"
     ]
    }
   ],
   "source": [
    "x = 20\n",
    "y = 30\n",
    "print(\"sum\",x+y)\n",
    "print(\"sub\",x-y)\n",
    "print(\"mul\",x*y)\n",
    "print(\"div\",x/y)"
   ]
  },
  {
   "cell_type": "code",
   "execution_count": 3,
   "metadata": {},
   "outputs": [
    {
     "name": "stdout",
     "output_type": "stream",
     "text": [
      "sum 22.6\n",
      "sub -21.4\n",
      "mul 13.2\n",
      "div 0.02727272727272727\n"
     ]
    }
   ],
   "source": [
    "x = 0.6\n",
    "y = 22\n",
    "print(\"sum\",x+y)\n",
    "print(\"sub\",x-y)\n",
    "print(\"mul\",x*y)\n",
    "print(\"div\",x/y)"
   ]
  },
  {
   "cell_type": "markdown",
   "metadata": {},
   "source": [
    "In above eample whne i want ot see results i am repeating"
   ]
  },
  {
   "cell_type": "code",
   "execution_count": 4,
   "metadata": {},
   "outputs": [],
   "source": [
    "# we are changing x and y so we can use it as input of function"
   ]
  },
  {
   "cell_type": "code",
   "execution_count": 5,
   "metadata": {},
   "outputs": [],
   "source": [
    "def shriejan(x,y):\n",
    "    print(\"sum\",x+y)\n",
    "    print(\"sub\",x-y)\n",
    "    print(\"mul\",x*y)\n",
    "    print(\"div\",x/y)\n",
    "    \n"
   ]
  },
  {
   "cell_type": "code",
   "execution_count": 6,
   "metadata": {},
   "outputs": [
    {
     "name": "stdout",
     "output_type": "stream",
     "text": [
      "sum 30\n",
      "sub -10\n",
      "mul 200\n",
      "div 0.5\n"
     ]
    }
   ],
   "source": [
    "shriejan(10,20)"
   ]
  },
  {
   "cell_type": "code",
   "execution_count": 7,
   "metadata": {},
   "outputs": [
    {
     "name": "stdout",
     "output_type": "stream",
     "text": [
      "sum 22.6\n",
      "sub -21.4\n",
      "mul 13.2\n",
      "div 0.02727272727272727\n"
     ]
    }
   ],
   "source": [
    "shriejan(0.6,22)"
   ]
  },
  {
   "cell_type": "code",
   "execution_count": 8,
   "metadata": {},
   "outputs": [],
   "source": [
    "# make a function that takes input x and then multiply it with 10"
   ]
  },
  {
   "cell_type": "code",
   "execution_count": 9,
   "metadata": {},
   "outputs": [],
   "source": [
    "def smile(x):\n",
    "    print(x*10)"
   ]
  },
  {
   "cell_type": "code",
   "execution_count": 10,
   "metadata": {},
   "outputs": [],
   "source": [
    "## function takes input and return output how can we get ouput back from function we will see next time"
   ]
  },
  {
   "cell_type": "code",
   "execution_count": 1,
   "metadata": {},
   "outputs": [],
   "source": [
    "# lets have a quick look how can we pass values to functions\n",
    "# positional parameter\n",
    "# keyword parameter"
   ]
  },
  {
   "cell_type": "code",
   "execution_count": null,
   "metadata": {},
   "outputs": [],
   "source": [
    "def fun(name1,name2,name3):\n",
    "    ''''This function is printing names'''\n",
    "    print(f'name 1 is {name1}')\n",
    "    print(f'name 2 is {name2}')\n",
    "    print(f'name 3 is {name3}')\n",
    "          "
   ]
  },
  {
   "cell_type": "code",
   "execution_count": 3,
   "metadata": {},
   "outputs": [
    {
     "name": "stdout",
     "output_type": "stream",
     "text": [
      "name 1 is shriejan\n",
      "name 2 is kumar\n",
      "name 3 is siva\n"
     ]
    }
   ],
   "source": [
    "fun(\"shriejan\",\"kumar\",\"siva\")"
   ]
  },
  {
   "cell_type": "code",
   "execution_count": null,
   "metadata": {},
   "outputs": [
    {
     "name": "stdout",
     "output_type": "stream",
     "text": [
      "name 1 is siva\n",
      "name 2 is kumar\n",
      "name 3 is shriejan\n"
     ]
    }
   ],
   "source": [
    "fun (name3=\"shriejan\",name2=\"kumar\",name1=\"siva\") # this will be keyword argument"
   ]
  },
  {
   "cell_type": "code",
   "execution_count": null,
   "metadata": {},
   "outputs": [],
   "source": [
    "def frun(age1, age2, age3):\n",
    "    average= (age1+age2+age3)/3\n",
    "    formula = average**2\n",
    "    return formula, average\n"
   ]
  },
  {
   "cell_type": "code",
   "execution_count": 11,
   "metadata": {},
   "outputs": [
    {
     "name": "stdout",
     "output_type": "stream",
     "text": [
      "(400.0, 20.0)\n"
     ]
    }
   ],
   "source": [
    "o = frun(10,20,30)\n",
    "print(o)"
   ]
  },
  {
   "cell_type": "code",
   "execution_count": 12,
   "metadata": {},
   "outputs": [
    {
     "data": {
      "text/plain": [
       "(244695.11111111112, 494.6666666666667)"
      ]
     },
     "execution_count": 12,
     "metadata": {},
     "output_type": "execute_result"
    }
   ],
   "source": [
    "p = frun(984,200,300)\n",
    "p"
   ]
  },
  {
   "cell_type": "code",
   "execution_count": 13,
   "metadata": {},
   "outputs": [
    {
     "name": "stdout",
     "output_type": "stream",
     "text": [
      "400.0 20.0\n"
     ]
    }
   ],
   "source": [
    "a,f = frun(10,20,30)\n",
    "print(a,f)"
   ]
  },
  {
   "cell_type": "code",
   "execution_count": 19,
   "metadata": {},
   "outputs": [],
   "source": [
    "def frun(age1, age2, age3):\n",
    "    average= (age1+age2+age3)/3\n",
    "    formula = average**2\n",
    "    yield formula\n",
    "    yield average\n",
    "\n",
    "    cube = average**3\n",
    "    return cube"
   ]
  },
  {
   "cell_type": "code",
   "execution_count": 23,
   "metadata": {},
   "outputs": [],
   "source": [
    "gg = frun(1,2,3)"
   ]
  },
  {
   "cell_type": "code",
   "execution_count": 24,
   "metadata": {},
   "outputs": [
    {
     "data": {
      "text/plain": [
       "[4.0, 2.0]"
      ]
     },
     "execution_count": 24,
     "metadata": {},
     "output_type": "execute_result"
    }
   ],
   "source": [
    "list(gg)"
   ]
  },
  {
   "cell_type": "code",
   "execution_count": 25,
   "metadata": {},
   "outputs": [],
   "source": [
    "# sometimes we want to use default values "
   ]
  },
  {
   "cell_type": "code",
   "execution_count": 26,
   "metadata": {},
   "outputs": [],
   "source": [
    "def fruit(name,color = 'órnage'):\n",
    "    print(f'name os {name} and color is {color}')"
   ]
  },
  {
   "cell_type": "code",
   "execution_count": 27,
   "metadata": {},
   "outputs": [
    {
     "name": "stdout",
     "output_type": "stream",
     "text": [
      "name os apple and color is órnage\n"
     ]
    }
   ],
   "source": [
    "fruit('apple')"
   ]
  },
  {
   "cell_type": "code",
   "execution_count": 28,
   "metadata": {},
   "outputs": [
    {
     "name": "stdout",
     "output_type": "stream",
     "text": [
      "name os banana and color is green\n"
     ]
    }
   ],
   "source": [
    "fruit('banana','green')"
   ]
  },
  {
   "cell_type": "code",
   "execution_count": 29,
   "metadata": {},
   "outputs": [],
   "source": [
    "# summarize\n",
    "# 1. we can give positonal and keyword arguments\n",
    "# 2. we can return and yield values\n",
    "# 3. we can use default values"
   ]
  },
  {
   "cell_type": "code",
   "execution_count": 33,
   "metadata": {},
   "outputs": [],
   "source": [
    "def smile(colour1, colour2, colour3):\n",
    "    print(f'colour 1 is {colour1}, colour 2 is {colour2}, colour 3 is {colour3}')\n",
    "    yield colour1\n",
    "    yield colour2  \n",
    "    yield colour3\n",
    "    return 'done'"
   ]
  },
  {
   "cell_type": "code",
   "execution_count": 37,
   "metadata": {},
   "outputs": [
    {
     "name": "stdout",
     "output_type": "stream",
     "text": [
      "colour 1 is red, colour 2 is green, colour 3 is blue\n"
     ]
    },
    {
     "data": {
      "text/plain": [
       "['red', 'green', 'blue']"
      ]
     },
     "execution_count": 37,
     "metadata": {},
     "output_type": "execute_result"
    }
   ],
   "source": [
    "a = smile('red','green','blue')\n",
    "list(a)"
   ]
  },
  {
   "cell_type": "code",
   "execution_count": null,
   "metadata": {},
   "outputs": [],
   "source": []
  }
 ],
 "metadata": {
  "kernelspec": {
   "display_name": "Python 3",
   "language": "python",
   "name": "python3"
  },
  "language_info": {
   "codemirror_mode": {
    "name": "ipython",
    "version": 3
   },
   "file_extension": ".py",
   "mimetype": "text/x-python",
   "name": "python",
   "nbconvert_exporter": "python",
   "pygments_lexer": "ipython3",
   "version": "3.11.9"
  }
 },
 "nbformat": 4,
 "nbformat_minor": 2
}
